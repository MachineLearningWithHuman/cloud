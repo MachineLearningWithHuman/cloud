{
  "nbformat": 4,
  "nbformat_minor": 0,
  "metadata": {
    "colab": {
      "name": "sarcasm_embedding.ipynb",
      "provenance": []
    },
    "kernelspec": {
      "name": "python3",
      "display_name": "Python 3"
    }
  },
  "cells": [
    {
      "cell_type": "code",
      "metadata": {
        "id": "Y4jeOt__nqNY",
        "colab_type": "code",
        "colab": {}
      },
      "source": [
        "import json\n",
        "import tensorflow as tf\n",
        "\n",
        "from tensorflow.keras.preprocessing.text import Tokenizer\n",
        "from tensorflow.keras.preprocessing.sequence import pad_sequences"
      ],
      "execution_count": 0,
      "outputs": []
    },
    {
      "cell_type": "code",
      "metadata": {
        "id": "43wazBLFnvqS",
        "colab_type": "code",
        "colab": {}
      },
      "source": [
        "vocab_size = 10000\n",
        "embedding_dim = 16\n",
        "max_length = 100\n",
        "trunc_type='post'\n",
        "padding_type='post'\n",
        "oov_tok = \"<OOV>\"\n",
        "training_size = 20000"
      ],
      "execution_count": 0,
      "outputs": []
    },
    {
      "cell_type": "code",
      "metadata": {
        "id": "qn8Is4mBn8s7",
        "colab_type": "code",
        "colab": {
          "base_uri": "https://localhost:8080/",
          "height": 204
        },
        "outputId": "c06c604c-2813-47ca-d7c6-595525459e0a"
      },
      "source": [
        "!wget --no-check-certificate \\\n",
        "    https://storage.googleapis.com/laurencemoroney-blog.appspot.com/sarcasm.json \\\n",
        "    -O /tmp/sarcasm.json\n"
      ],
      "execution_count": 3,
      "outputs": [
        {
          "output_type": "stream",
          "text": [
            "--2020-06-11 13:47:43--  https://storage.googleapis.com/laurencemoroney-blog.appspot.com/sarcasm.json\n",
            "Resolving storage.googleapis.com (storage.googleapis.com)... 74.125.20.128, 2607:f8b0:400e:c07::80\n",
            "Connecting to storage.googleapis.com (storage.googleapis.com)|74.125.20.128|:443... connected.\n",
            "HTTP request sent, awaiting response... 200 OK\n",
            "Length: 5643545 (5.4M) [application/json]\n",
            "Saving to: ‘/tmp/sarcasm.json’\n",
            "\n",
            "\r/tmp/sarcasm.json     0%[                    ]       0  --.-KB/s               \r/tmp/sarcasm.json   100%[===================>]   5.38M  --.-KB/s    in 0.1s    \n",
            "\n",
            "2020-06-11 13:47:43 (49.9 MB/s) - ‘/tmp/sarcasm.json’ saved [5643545/5643545]\n",
            "\n"
          ],
          "name": "stdout"
        }
      ]
    },
    {
      "cell_type": "code",
      "metadata": {
        "id": "aOCfKHpVoBJ5",
        "colab_type": "code",
        "colab": {}
      },
      "source": [
        "with open(\"/tmp/sarcasm.json\", 'r') as f:\n",
        "    datastore = json.load(f)\n",
        "\n",
        "sentences = []\n",
        "labels = []\n",
        "\n",
        "for item in datastore:\n",
        "    sentences.append(item['headline'])\n",
        "    labels.append(item['is_sarcastic'])"
      ],
      "execution_count": 0,
      "outputs": []
    },
    {
      "cell_type": "code",
      "metadata": {
        "id": "1Jmzg6VFoDqe",
        "colab_type": "code",
        "colab": {}
      },
      "source": [
        "training_sentences = sentences[0:training_size]\n",
        "testing_sentences = sentences[training_size:]\n",
        "training_labels = labels[0:training_size]\n",
        "testing_labels = labels[training_size:]"
      ],
      "execution_count": 0,
      "outputs": []
    },
    {
      "cell_type": "code",
      "metadata": {
        "id": "7WgqjyQJoEUD",
        "colab_type": "code",
        "colab": {}
      },
      "source": [
        "tokenizer = Tokenizer(num_words=vocab_size, oov_token=oov_tok)\n",
        "tokenizer.fit_on_texts(training_sentences)\n",
        "\n",
        "word_index = tokenizer.word_index\n",
        "\n",
        "training_sequences = tokenizer.texts_to_sequences(training_sentences)\n",
        "training_padded = pad_sequences(training_sequences, maxlen=max_length, padding=padding_type, truncating=trunc_type)\n",
        "\n",
        "testing_sequences = tokenizer.texts_to_sequences(testing_sentences)\n",
        "testing_padded = pad_sequences(testing_sequences, maxlen=max_length, padding=padding_type, truncating=trunc_type)"
      ],
      "execution_count": 0,
      "outputs": []
    },
    {
      "cell_type": "code",
      "metadata": {
        "id": "anpPwCxQoIUW",
        "colab_type": "code",
        "colab": {}
      },
      "source": [
        "# Need this block to get it to work with TensorFlow 2.x\n",
        "import numpy as np\n",
        "training_padded = np.array(training_padded)\n",
        "training_labels = np.array(training_labels)\n",
        "testing_padded = np.array(testing_padded)\n",
        "testing_labels = np.array(testing_labels)"
      ],
      "execution_count": 0,
      "outputs": []
    },
    {
      "cell_type": "code",
      "metadata": {
        "id": "cB2OUFy6oLoh",
        "colab_type": "code",
        "colab": {}
      },
      "source": [
        "model = tf.keras.Sequential([\n",
        "    tf.keras.layers.Embedding(vocab_size, embedding_dim, input_length=max_length),\n",
        "    tf.keras.layers.GlobalAveragePooling1D(),\n",
        "    tf.keras.layers.Dense(24, activation='relu'),\n",
        "    tf.keras.layers.Dense(1, activation='sigmoid')\n",
        "])\n",
        "model.compile(loss='binary_crossentropy',optimizer='adam',metrics=['accuracy'])"
      ],
      "execution_count": 0,
      "outputs": []
    },
    {
      "cell_type": "code",
      "metadata": {
        "id": "GuCD2ap6oNvn",
        "colab_type": "code",
        "colab": {
          "base_uri": "https://localhost:8080/",
          "height": 289
        },
        "outputId": "bcf67402-7ba3-466f-d219-9199f3dc8dd0"
      },
      "source": [
        "model.summary()"
      ],
      "execution_count": 9,
      "outputs": [
        {
          "output_type": "stream",
          "text": [
            "Model: \"sequential\"\n",
            "_________________________________________________________________\n",
            "Layer (type)                 Output Shape              Param #   \n",
            "=================================================================\n",
            "embedding (Embedding)        (None, 100, 16)           160000    \n",
            "_________________________________________________________________\n",
            "global_average_pooling1d (Gl (None, 16)                0         \n",
            "_________________________________________________________________\n",
            "dense (Dense)                (None, 24)                408       \n",
            "_________________________________________________________________\n",
            "dense_1 (Dense)              (None, 1)                 25        \n",
            "=================================================================\n",
            "Total params: 160,433\n",
            "Trainable params: 160,433\n",
            "Non-trainable params: 0\n",
            "_________________________________________________________________\n"
          ],
          "name": "stdout"
        }
      ]
    },
    {
      "cell_type": "code",
      "metadata": {
        "id": "yovf5XqEoQkl",
        "colab_type": "code",
        "colab": {
          "base_uri": "https://localhost:8080/",
          "height": 1000
        },
        "outputId": "dad75370-6c79-44cd-ef3a-358ff102317b"
      },
      "source": [
        "num_epochs = 30\n",
        "history = model.fit(training_padded, training_labels, epochs=num_epochs, validation_data=(testing_padded, testing_labels), verbose=2)"
      ],
      "execution_count": 10,
      "outputs": [
        {
          "output_type": "stream",
          "text": [
            "Epoch 1/30\n",
            "625/625 - 2s - loss: 0.6715 - accuracy: 0.5738 - val_loss: 0.6119 - val_accuracy: 0.7044\n",
            "Epoch 2/30\n",
            "625/625 - 2s - loss: 0.4732 - accuracy: 0.8100 - val_loss: 0.4050 - val_accuracy: 0.8290\n",
            "Epoch 3/30\n",
            "625/625 - 2s - loss: 0.3330 - accuracy: 0.8670 - val_loss: 0.3667 - val_accuracy: 0.8422\n",
            "Epoch 4/30\n",
            "625/625 - 2s - loss: 0.2784 - accuracy: 0.8906 - val_loss: 0.3473 - val_accuracy: 0.8554\n",
            "Epoch 5/30\n",
            "625/625 - 2s - loss: 0.2405 - accuracy: 0.9070 - val_loss: 0.3426 - val_accuracy: 0.8556\n",
            "Epoch 6/30\n",
            "625/625 - 2s - loss: 0.2130 - accuracy: 0.9190 - val_loss: 0.3527 - val_accuracy: 0.8493\n",
            "Epoch 7/30\n",
            "625/625 - 2s - loss: 0.1903 - accuracy: 0.9283 - val_loss: 0.3579 - val_accuracy: 0.8508\n",
            "Epoch 8/30\n",
            "625/625 - 2s - loss: 0.1707 - accuracy: 0.9359 - val_loss: 0.3687 - val_accuracy: 0.8527\n",
            "Epoch 9/30\n",
            "625/625 - 2s - loss: 0.1551 - accuracy: 0.9431 - val_loss: 0.3876 - val_accuracy: 0.8474\n",
            "Epoch 10/30\n",
            "625/625 - 2s - loss: 0.1433 - accuracy: 0.9489 - val_loss: 0.3885 - val_accuracy: 0.8532\n",
            "Epoch 11/30\n",
            "625/625 - 2s - loss: 0.1306 - accuracy: 0.9538 - val_loss: 0.4070 - val_accuracy: 0.8501\n",
            "Epoch 12/30\n",
            "625/625 - 2s - loss: 0.1199 - accuracy: 0.9588 - val_loss: 0.4435 - val_accuracy: 0.8404\n",
            "Epoch 13/30\n",
            "625/625 - 2s - loss: 0.1106 - accuracy: 0.9626 - val_loss: 0.4408 - val_accuracy: 0.8478\n",
            "Epoch 14/30\n",
            "625/625 - 2s - loss: 0.1016 - accuracy: 0.9654 - val_loss: 0.4638 - val_accuracy: 0.8439\n",
            "Epoch 15/30\n",
            "625/625 - 2s - loss: 0.0940 - accuracy: 0.9686 - val_loss: 0.5129 - val_accuracy: 0.8353\n",
            "Epoch 16/30\n",
            "625/625 - 2s - loss: 0.0891 - accuracy: 0.9700 - val_loss: 0.5060 - val_accuracy: 0.8411\n",
            "Epoch 17/30\n",
            "625/625 - 2s - loss: 0.0801 - accuracy: 0.9740 - val_loss: 0.5282 - val_accuracy: 0.8416\n",
            "Epoch 18/30\n",
            "625/625 - 2s - loss: 0.0754 - accuracy: 0.9762 - val_loss: 0.5784 - val_accuracy: 0.8335\n",
            "Epoch 19/30\n",
            "625/625 - 2s - loss: 0.0699 - accuracy: 0.9774 - val_loss: 0.5945 - val_accuracy: 0.8296\n",
            "Epoch 20/30\n",
            "625/625 - 2s - loss: 0.0651 - accuracy: 0.9792 - val_loss: 0.6303 - val_accuracy: 0.8322\n",
            "Epoch 21/30\n",
            "625/625 - 2s - loss: 0.0610 - accuracy: 0.9814 - val_loss: 0.6436 - val_accuracy: 0.8320\n",
            "Epoch 22/30\n",
            "625/625 - 2s - loss: 0.0547 - accuracy: 0.9827 - val_loss: 0.6738 - val_accuracy: 0.8280\n",
            "Epoch 23/30\n",
            "625/625 - 2s - loss: 0.0518 - accuracy: 0.9839 - val_loss: 0.7211 - val_accuracy: 0.8262\n",
            "Epoch 24/30\n",
            "625/625 - 2s - loss: 0.0479 - accuracy: 0.9860 - val_loss: 0.7281 - val_accuracy: 0.8269\n",
            "Epoch 25/30\n",
            "625/625 - 2s - loss: 0.0442 - accuracy: 0.9880 - val_loss: 0.7596 - val_accuracy: 0.8258\n",
            "Epoch 26/30\n",
            "625/625 - 2s - loss: 0.0408 - accuracy: 0.9883 - val_loss: 0.7912 - val_accuracy: 0.8238\n",
            "Epoch 27/30\n",
            "625/625 - 2s - loss: 0.0401 - accuracy: 0.9887 - val_loss: 0.8350 - val_accuracy: 0.8207\n",
            "Epoch 28/30\n",
            "625/625 - 2s - loss: 0.0356 - accuracy: 0.9906 - val_loss: 0.8673 - val_accuracy: 0.8183\n",
            "Epoch 29/30\n",
            "625/625 - 2s - loss: 0.0345 - accuracy: 0.9904 - val_loss: 0.8928 - val_accuracy: 0.8167\n",
            "Epoch 30/30\n",
            "625/625 - 2s - loss: 0.0307 - accuracy: 0.9913 - val_loss: 0.9742 - val_accuracy: 0.8165\n"
          ],
          "name": "stdout"
        }
      ]
    },
    {
      "cell_type": "code",
      "metadata": {
        "id": "rYVrCSTwoTRH",
        "colab_type": "code",
        "colab": {
          "base_uri": "https://localhost:8080/",
          "height": 541
        },
        "outputId": "6c422f46-0e2d-48fa-c2aa-c5cb2f1c9ac2"
      },
      "source": [
        "import matplotlib.pyplot as plt\n",
        "\n",
        "\n",
        "def plot_graphs(history, string):\n",
        "  plt.plot(history.history[string])\n",
        "  plt.plot(history.history['val_'+string])\n",
        "  plt.xlabel(\"Epochs\")\n",
        "  plt.ylabel(string)\n",
        "  plt.legend([string, 'val_'+string])\n",
        "  plt.show()\n",
        "  \n",
        "plot_graphs(history, \"accuracy\")\n",
        "plot_graphs(history, \"loss\")"
      ],
      "execution_count": 11,
      "outputs": [
        {
          "output_type": "display_data",
          "data": {
            "image/png": "[encoded data removed]",
            "text/plain": [
              "<Figure size 432x288 with 1 Axes>"
            ]
          },
          "metadata": {
            "tags": [],
            "needs_background": "light"
          }
        },
        {
          "output_type": "display_data",
          "data": {
            "image/png": "[encoded data removed]",
            "text/plain": [
              "<Figure size 432x288 with 1 Axes>"
            ]
          },
          "metadata": {
            "tags": [],
            "needs_background": "light"
          }
        }
      ]
    },
    {
      "cell_type": "code",
      "metadata": {
        "id": "iBymMLkpoWJl",
        "colab_type": "code",
        "colab": {
          "base_uri": "https://localhost:8080/",
          "height": 88
        },
        "outputId": "35322c27-0fe3-4b78-80a1-12df7c1a8d5f"
      },
      "source": [
        "reverse_word_index = dict([(value, key) for (key, value) in word_index.items()])\n",
        "\n",
        "def decode_sentence(text):\n",
        "    return ' '.join([reverse_word_index.get(i, '?') for i in text])\n",
        "\n",
        "print(decode_sentence(training_padded[0]))\n",
        "print(training_sentences[2])\n",
        "print(labels[2])"
      ],
      "execution_count": 12,
      "outputs": [
        {
          "output_type": "stream",
          "text": [
            "former <OOV> store clerk sues over secret 'black <OOV> for minority shoppers ? ? ? ? ? ? ? ? ? ? ? ? ? ? ? ? ? ? ? ? ? ? ? ? ? ? ? ? ? ? ? ? ? ? ? ? ? ? ? ? ? ? ? ? ? ? ? ? ? ? ? ? ? ? ? ? ? ? ? ? ? ? ? ? ? ? ? ? ? ? ? ? ? ? ? ? ? ? ? ? ? ? ? ? ? ? ? ?\n",
            "mom starting to fear son's web series closest thing she will have to grandchild\n",
            "1\n"
          ],
          "name": "stdout"
        }
      ]
    },
    {
      "cell_type": "code",
      "metadata": {
        "id": "1pmxV8YDoYE4",
        "colab_type": "code",
        "colab": {
          "base_uri": "https://localhost:8080/",
          "height": 34
        },
        "outputId": "b93df1af-5c87-4ce3-f8cf-35cbda23cf54"
      },
      "source": [
        "e = model.layers[0]\n",
        "weights = e.get_weights()[0]\n",
        "print(weights.shape) # shape: (vocab_size, embedding_dim)"
      ],
      "execution_count": 13,
      "outputs": [
        {
          "output_type": "stream",
          "text": [
            "(10000, 16)\n"
          ],
          "name": "stdout"
        }
      ]
    },
    {
      "cell_type": "code",
      "metadata": {
        "id": "4gwbUTMsobh2",
        "colab_type": "code",
        "colab": {}
      },
      "source": [
        "import io\n",
        "\n",
        "out_v = io.open('vecs.tsv', 'w', encoding='utf-8')\n",
        "out_m = io.open('meta.tsv', 'w', encoding='utf-8')\n",
        "for word_num in range(1, vocab_size):\n",
        "  word = reverse_word_index[word_num]\n",
        "  embeddings = weights[word_num]\n",
        "  out_m.write(word + \"\\n\")\n",
        "  out_v.write('\\t'.join([str(x) for x in embeddings]) + \"\\n\")\n",
        "out_v.close()\n",
        "out_m.close()"
      ],
      "execution_count": 0,
      "outputs": []
    },
    {
      "cell_type": "code",
      "metadata": {
        "id": "xTGpWV1OodZe",
        "colab_type": "code",
        "colab": {}
      },
      "source": [
        "try:\n",
        "  from google.colab import files\n",
        "except ImportError:\n",
        "  pass\n",
        "else:\n",
        "  files.download('vecs.tsv')\n",
        "  files.download('meta.tsv')"
      ],
      "execution_count": 0,
      "outputs": []
    },
    {
      "cell_type": "code",
      "metadata": {
        "id": "KQSBnsaPoiBp",
        "colab_type": "code",
        "colab": {}
      },
      "source": [
        "sentence = [\"granny starting to fear spiders in the garden might be real\", \"game of thrones season finale showing this sunday night\"]\n",
        "sequences = tokenizer.texts_to_sequences(sentence)\n",
        "padded = pad_sequences(sequences, maxlen=max_length, padding=padding_type, truncating=trunc_type)\n",
        "print(model.predict(padded))"
      ],
      "execution_count": 0,
      "outputs": []
    }
  ]
}