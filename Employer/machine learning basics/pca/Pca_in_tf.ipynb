{
  "nbformat": 4,
  "nbformat_minor": 0,
  "metadata": {
    "colab": {
      "name": "Pca in tf.ipynb",
      "provenance": []
    },
    "kernelspec": {
      "name": "python3",
      "display_name": "Python 3"
    }
  },
  "cells": [
    {
      "cell_type": "markdown",
      "metadata": {
        "id": "6ZM7c6OiV6fg",
        "colab_type": "text"
      },
      "source": [
        "#Principal Component Analysis"
      ]
    },
    {
      "cell_type": "markdown",
      "metadata": {
        "id": "4a5Wz6xwV-hf",
        "colab_type": "text"
      },
      "source": [
        "Principal Component Analysis(PCA) is one of the most popular linear dimension reduction. Sometimes, it is used alone and sometimes as a starting solution for other dimension reduction methods. PCA is a projection based method which transforms the data by projecting it onto a set of orthogonal axes.\n",
        "<p>Let's develop an intuitive understanding of PCA. Suppose, you wish to differentiate between different food items based on their nutritional content. Which variable will be a good choice to differentiate food items? If you choose a variable which varies a lot from one food item to another, you will be able to isolate them properly. Your job will be much harder if the chosen variable is almost same in food items. What if data doesn't have a variable which segregates food items properly? We can create an artificial variable through a linear combination of original variables like\n",
        " <b>artVar1 = 2 X orgVar1 - 3 X orgVar2 + 5 X orgVar3.</b> \n",
        " This is what essentially PCA does, it finds best linear combinations of the original variables so that the variance or spread along the new variable is maximum.</p>\n",
        " \n"
      ]
    },
    {
      "cell_type": "code",
      "metadata": {
        "id": "gCVpoUe-pX7-",
        "colab_type": "code",
        "colab": {
          "base_uri": "https://localhost:8080/",
          "height": 265
        },
        "outputId": "18a49797-9844-4683-90de-99a85870c3f5"
      },
      "source": [
        "import tensorflow as tf\n",
        "import matplotlib.pyplot as plt\n",
        "\n",
        "x_data = tf.multiply(5, tf.random.uniform([100], minval=0, maxval=100, dtype = tf.float32, seed = 0))\n",
        "y_data = tf.multiply(2, x_data) + 1 + tf.random.uniform([100], minval=0, maxval=100, dtype = tf.float32, seed = 0)\n",
        "\n",
        "X = tf.stack([x_data, y_data], axis=1)\n",
        "\n",
        "plt.rc_context({'axes.edgecolor':'orange', 'xtick.color':'red', 'ytick.color':'red'})\n",
        "plt.plot(X[:,0], X[:,1], '+', color='b')\n",
        "plt.grid()"
      ],
      "execution_count": 2,
      "outputs": [
        {
          "output_type": "display_data",
          "data": {
            "image/png": "[encoded data removed]",
            "text/plain": [
              "<Figure size 432x288 with 1 Axes>"
            ]
          },
          "metadata": {
            "tags": [],
            "needs_background": "light"
          }
        }
      ]
    },
    {
      "cell_type": "code",
      "metadata": {
        "id": "0QUcvWverw5Z",
        "colab_type": "code",
        "colab": {
          "base_uri": "https://localhost:8080/",
          "height": 34
        },
        "outputId": "763b0ad8-2f55-46d5-b455-56d2668ee63d"
      },
      "source": [
        "X.shape"
      ],
      "execution_count": 7,
      "outputs": [
        {
          "output_type": "execute_result",
          "data": {
            "text/plain": [
              "TensorShape([100, 2])"
            ]
          },
          "metadata": {
            "tags": []
          },
          "execution_count": 7
        }
      ]
    },
    {
      "cell_type": "code",
      "metadata": {
        "id": "qrh5A7Icrw4B",
        "colab_type": "code",
        "colab": {
          "base_uri": "https://localhost:8080/",
          "height": 204
        },
        "outputId": "ec723a4e-7645-4f4c-dea5-c960181adc27"
      },
      "source": [
        "X[:10]"
      ],
      "execution_count": 9,
      "outputs": [
        {
          "output_type": "execute_result",
          "data": {
            "text/plain": [
              "<tf.Tensor: shape=(10, 2), dtype=float32, numpy=\n",
              "array([[ 50.43131 , 173.92715 ],\n",
              "       [485.08337 , 980.5061  ],\n",
              "       [424.38208 , 916.5281  ],\n",
              "       [ 24.140656, 121.70948 ],\n",
              "       [ 24.261534,  50.477875],\n",
              "       [388.73734 , 869.5469  ],\n",
              "       [422.234   , 905.7481  ],\n",
              "       [208.53746 , 462.0018  ],\n",
              "       [254.97919 , 517.7514  ],\n",
              "       [327.60126 , 671.89795 ]], dtype=float32)>"
            ]
          },
          "metadata": {
            "tags": []
          },
          "execution_count": 9
        }
      ]
    },
    {
      "cell_type": "code",
      "metadata": {
        "id": "DCiIKT5LqE9b",
        "colab_type": "code",
        "colab": {
          "base_uri": "https://localhost:8080/",
          "height": 265
        },
        "outputId": "6f46631d-1457-4d06-a915-9a27f1b24f06"
      },
      "source": [
        "def normalize(data):\n",
        "    # creates a copy of data\n",
        "    X = tf.identity(data)\n",
        "    # calculates the mean\n",
        "    X -=tf.reduce_mean(data, axis=0)\n",
        "    return X\n",
        "\n",
        "normalized_data = normalize(X)\n",
        "plt.plot(normalized_data[:,0], normalized_data[:,1], '+', color='b')\n",
        "plt.grid()"
      ],
      "execution_count": 3,
      "outputs": [
        {
          "output_type": "display_data",
          "data": {
            "image/png": "[encoded data removed]",
            "text/plain": [
              "<Figure size 432x288 with 1 Axes>"
            ]
          },
          "metadata": {
            "tags": [],
            "needs_background": "light"
          }
        }
      ]
    },
    {
      "cell_type": "code",
      "metadata": {
        "id": "s8y4EDN3q4-j",
        "colab_type": "code",
        "colab": {
          "base_uri": "https://localhost:8080/",
          "height": 102
        },
        "outputId": "a54eb331-3dae-4a60-b2a4-939c0dc3ec8e"
      },
      "source": [
        "# Finding the Eigne Values and Vectors for the data\n",
        "eigen_values, eigen_vectors = tf.linalg.eigh(tf.tensordot(tf.transpose(normalized_data), normalized_data, axes=1))\n",
        "\n",
        "print(\"Eigen Vectors: \\n{} \\nEigen Values: \\n{}\".format(eigen_vectors, eigen_values))\n"
      ],
      "execution_count": 5,
      "outputs": [
        {
          "output_type": "stream",
          "text": [
            "Eigen Vectors: \n",
            "[[-0.89603883 -0.44397566]\n",
            " [ 0.44397566 -0.89603883]] \n",
            "Eigen Values: \n",
            "[   16621.441 10222313.   ]\n"
          ],
          "name": "stdout"
        }
      ]
    },
    {
      "cell_type": "code",
      "metadata": {
        "id": "abEhiYF4rEbJ",
        "colab_type": "code",
        "colab": {
          "base_uri": "https://localhost:8080/",
          "height": 265
        },
        "outputId": "25fbba37-78c0-45b4-cbc3-5f66094599c3"
      },
      "source": [
        "X_new = tf.tensordot(tf.transpose(eigen_vectors), tf.transpose(normalized_data), axes=1)\n",
        "\n",
        "plt.plot(X_new[0, :], X_new[1, :], '+', color='b')\n",
        "plt.xlim(-500, 500)\n",
        "plt.ylim(-700, 700)\n",
        "plt.grid()"
      ],
      "execution_count": 6,
      "outputs": [
        {
          "output_type": "display_data",
          "data": {
            "image/png": "[encoded data removed]",
            "text/plain": [
              "<Figure size 432x288 with 1 Axes>"
            ]
          },
          "metadata": {
            "tags": [],
            "needs_background": "light"
          }
        }
      ]
    }
  ]
}