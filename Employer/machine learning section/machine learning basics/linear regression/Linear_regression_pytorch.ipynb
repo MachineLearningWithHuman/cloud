{
  "nbformat": 4,
  "nbformat_minor": 0,
  "metadata": {
    "colab": {
      "name": "Linear regression pytorch.ipynb",
      "provenance": [],
      "collapsed_sections": [],
      "authorship_tag": "ABX9TyP78Jr4gJKxjYypyoNyGO7J",
      "include_colab_link": true
    },
    "kernelspec": {
      "name": "python3",
      "display_name": "Python 3"
    }
  },
  "cells": [
    {
      "cell_type": "markdown",
      "metadata": {
        "id": "view-in-github",
        "colab_type": "text"
      },
      "source": [
        "<a href=\"https://colab.research.google.com/github/MachineLearningWithHuman/cloud/blob/master/Linear_regression_pytorch.ipynb\" target=\"_parent\"><img src=\"https://colab.research.google.com/assets/colab-badge.svg\" alt=\"Open In Colab\"/></a>"
      ]
    },
    {
      "cell_type": "markdown",
      "metadata": {
        "id": "MDbjodYsWMnd",
        "colab_type": "text"
      },
      "source": [
        "#Linear Regression"
      ]
    },
    {
      "cell_type": "markdown",
      "metadata": {
        "id": "yim-EgF-yUhq",
        "colab_type": "text"
      },
      "source": [
        "# <b>Assumptions in Linear Regression</b>\n",
        "\n",
        "\n",
        "*   **Linear relationship.**It is also important to check for outliers since linear regression is sensitive to outlier effects.  The linearity assumption can best be tested with scatter plots.\n",
        "![alt text](https://external-content.duckduckgo.com/iu/?u=http%3A%2F%2F2.bp.blogspot.com%2F-TcRUfR96Flw%2FUBhSO2LK9CI%2FAAAAAAAAAgY%2FI40YLjWavIs%2Fs1600%2Flinear%2Bvs%2Bnonlinear.jpg&f=1&nofb=1)\n",
        "*   **Multivariate normality.**This assumption can best be checked with a histogram or a Q-Q-Plot.  Normality can be checked with a goodness of fit test, e.g., the Kolmogorov-Smirnov test.  When the data is not normally distributed a non-linear transformation (e.g., log-transformation) might fix this issue.\n",
        "![alt text](https://external-content.duckduckgo.com/iu/?u=https%3A%2F%2Ftse1.mm.bing.net%2Fth%3Fid%3DOIP.gya82KlV8aRluXMS8OCOOAAAAA%26pid%3DApi&f=1)\n",
        "*   **No or little multicollinearity.**Multicollinearity occurs when the independent variables are too highly correlated with each other.\n",
        "![alt text](https://external-content.duckduckgo.com/iu/?u=https%3A%2F%2Fi.stack.imgur.com%2FJfCrn.jpg&f=1&nofb=1)\n",
        "Multicollinearity may be tested with three central criteria:\n",
        "\n",
        "1.    **Correlation matrix** – when computing the matrix of Pearson’s Bivariate Correlation among all independent variables the correlation coefficients need to be smaller than 1.\n",
        "2.   **Tolerance –**the tolerance measures the influence of one independent variable on all other independent variables; the tolerance is calculated with an initial linear regression analysis.  Tolerance is defined as **T = 1 – R²** for these first step regression analysis.  With T < 0.1 there might be multicollinearity in the data and with T < 0.01 there certainly is.\n",
        "3.  **Variance Inflation Factor (VIF) –** the variance inflation factor of the linear regression is defined as VIF = 1/T. With VIF > 5 there is an indication that multicollinearity may be present; with VIF > 10 there is certainly multicollinearity among the variables.\n",
        "*   No auto-correlation\n",
        "*   Homoscedasticity (static variance)\n",
        "\n",
        "\n",
        "\n",
        "\n",
        "\n",
        "\n"
      ]
    },
    {
      "cell_type": "code",
      "metadata": {
        "id": "umVR0BhEeT0q",
        "colab_type": "code",
        "colab": {}
      },
      "source": [
        "import numpy as np\n",
        "\n",
        "#create data for regression\n",
        "x_values = np.arange(10)\n",
        "x_train = np.array(x_values, dtype=np.float32)\n",
        "x_train = x_train.reshape(-1, 1)\n",
        "\n",
        "y_values = [2*i + 1 for i in x_values]\n",
        "y_train = np.array(y_values, dtype=np.float32)\n",
        "y_train = y_train.reshape(-1, 1)\n"
      ],
      "execution_count": 0,
      "outputs": []
    },
    {
      "cell_type": "code",
      "metadata": {
        "id": "oMMWBwZxng76",
        "colab_type": "code",
        "colab": {}
      },
      "source": [
        "import torch\n",
        "from torch.autograd import Variable"
      ],
      "execution_count": 0,
      "outputs": []
    },
    {
      "cell_type": "code",
      "metadata": {
        "id": "9NkbxQnmnkrs",
        "colab_type": "code",
        "colab": {}
      },
      "source": [
        "class linearregression(torch.nn.Module):\n",
        "  def __init__(self,inputsize,outputsize):\n",
        "    super(linearregression, self).__init__()\n",
        "    self.linear=torch.nn.Linear(inputsize,outputsize)\n",
        "\n",
        "  def forward(self,x):\n",
        "    out=self.linear(x)\n",
        "    return out"
      ],
      "execution_count": 0,
      "outputs": []
    },
    {
      "cell_type": "code",
      "metadata": {
        "id": "fkHsHhSSo9Nw",
        "colab_type": "code",
        "colab": {}
      },
      "source": [
        "inputDim = 1        # takes variable 'x' \n",
        "outputDim = 1       # takes variable 'y'\n",
        "learningRate = 0.01 \n",
        "epochs = 100\n",
        "\n",
        "model = linearregression(inputDim, outputDim)\n",
        "##### For GPU #######\n",
        "if torch.cuda.is_available():\n",
        "    model.cuda()"
      ],
      "execution_count": 0,
      "outputs": []
    },
    {
      "cell_type": "code",
      "metadata": {
        "id": "irrZk7aGpGT1",
        "colab_type": "code",
        "colab": {}
      },
      "source": [
        "criterion = torch.nn.MSELoss() \n",
        "optimizer = torch.optim.SGD(model.parameters(), lr=learningRate)"
      ],
      "execution_count": 0,
      "outputs": []
    },
    {
      "cell_type": "code",
      "metadata": {
        "id": "afc0mFAOpQTs",
        "colab_type": "code",
        "colab": {
          "base_uri": "https://localhost:8080/",
          "height": 1000
        },
        "outputId": "7e977558-80a9-451e-c319-2241e6ac9fcb"
      },
      "source": [
        "for epoch in range(epochs):\n",
        "    # Converting inputs and labels to Variable\n",
        "    if torch.cuda.is_available():\n",
        "        inputs = Variable(torch.from_numpy(x_train).cuda())\n",
        "        labels = Variable(torch.from_numpy(y_train).cuda())\n",
        "    else:\n",
        "        inputs = Variable(torch.from_numpy(x_train))\n",
        "        labels = Variable(torch.from_numpy(y_train))\n",
        "\n",
        "    # Clear gradient buffers because we don't want any gradient from previous epoch to carry forward, dont want to cummulate gradients\n",
        "    optimizer.zero_grad()\n",
        "\n",
        "    # get output from the model, given the inputs\n",
        "    outputs = model(inputs)\n",
        "\n",
        "    # get loss for the predicted output\n",
        "    loss = criterion(outputs, labels)\n",
        "    print(loss)\n",
        "    # get gradients w.r.t to parameters\n",
        "    loss.backward()\n",
        "\n",
        "    # update parameters\n",
        "    optimizer.step()\n",
        "\n",
        "    print('epoch {}, loss {}'.format(epoch, loss.item()))"
      ],
      "execution_count": 13,
      "outputs": [
        {
          "output_type": "stream",
          "text": [
            "tensor(62.0840, grad_fn=<MseLossBackward>)\n",
            "epoch 0, loss 62.084007263183594\n",
            "tensor(10.7265, grad_fn=<MseLossBackward>)\n",
            "epoch 1, loss 10.726544380187988\n",
            "tensor(1.8539, grad_fn=<MseLossBackward>)\n",
            "epoch 2, loss 1.8538856506347656\n",
            "tensor(0.3210, grad_fn=<MseLossBackward>)\n",
            "epoch 3, loss 0.32101279497146606\n",
            "tensor(0.0562, grad_fn=<MseLossBackward>)\n",
            "epoch 4, loss 0.05618102103471756\n",
            "tensor(0.0104, grad_fn=<MseLossBackward>)\n",
            "epoch 5, loss 0.010420176200568676\n",
            "tensor(0.0025, grad_fn=<MseLossBackward>)\n",
            "epoch 6, loss 0.002506240038201213\n",
            "tensor(0.0011, grad_fn=<MseLossBackward>)\n",
            "epoch 7, loss 0.0011310502886772156\n",
            "tensor(0.0009, grad_fn=<MseLossBackward>)\n",
            "epoch 8, loss 0.0008856033673509955\n",
            "tensor(0.0008, grad_fn=<MseLossBackward>)\n",
            "epoch 9, loss 0.000835428771097213\n",
            "tensor(0.0008, grad_fn=<MseLossBackward>)\n",
            "epoch 10, loss 0.0008190653170458972\n",
            "tensor(0.0008, grad_fn=<MseLossBackward>)\n",
            "epoch 11, loss 0.000808653247077018\n",
            "tensor(0.0008, grad_fn=<MseLossBackward>)\n",
            "epoch 12, loss 0.0007993387989699841\n",
            "tensor(0.0008, grad_fn=<MseLossBackward>)\n",
            "epoch 13, loss 0.000790293444879353\n",
            "tensor(0.0008, grad_fn=<MseLossBackward>)\n",
            "epoch 14, loss 0.000781384005676955\n",
            "tensor(0.0008, grad_fn=<MseLossBackward>)\n",
            "epoch 15, loss 0.0007725834148004651\n",
            "tensor(0.0008, grad_fn=<MseLossBackward>)\n",
            "epoch 16, loss 0.0007638889946974814\n",
            "tensor(0.0008, grad_fn=<MseLossBackward>)\n",
            "epoch 17, loss 0.0007552794413641095\n",
            "tensor(0.0007, grad_fn=<MseLossBackward>)\n",
            "epoch 18, loss 0.0007467729737982154\n",
            "tensor(0.0007, grad_fn=<MseLossBackward>)\n",
            "epoch 19, loss 0.0007383602205663919\n",
            "tensor(0.0007, grad_fn=<MseLossBackward>)\n",
            "epoch 20, loss 0.0007300478173419833\n",
            "tensor(0.0007, grad_fn=<MseLossBackward>)\n",
            "epoch 21, loss 0.0007218263344839215\n",
            "tensor(0.0007, grad_fn=<MseLossBackward>)\n",
            "epoch 22, loss 0.0007136974600143731\n",
            "tensor(0.0007, grad_fn=<MseLossBackward>)\n",
            "epoch 23, loss 0.0007056555477902293\n",
            "tensor(0.0007, grad_fn=<MseLossBackward>)\n",
            "epoch 24, loss 0.0006977072916924953\n",
            "tensor(0.0007, grad_fn=<MseLossBackward>)\n",
            "epoch 25, loss 0.0006898528663441539\n",
            "tensor(0.0007, grad_fn=<MseLossBackward>)\n",
            "epoch 26, loss 0.0006820851122029126\n",
            "tensor(0.0007, grad_fn=<MseLossBackward>)\n",
            "epoch 27, loss 0.0006744015263393521\n",
            "tensor(0.0007, grad_fn=<MseLossBackward>)\n",
            "epoch 28, loss 0.0006668074638582766\n",
            "tensor(0.0007, grad_fn=<MseLossBackward>)\n",
            "epoch 29, loss 0.000659298850223422\n",
            "tensor(0.0007, grad_fn=<MseLossBackward>)\n",
            "epoch 30, loss 0.0006518780719488859\n",
            "tensor(0.0006, grad_fn=<MseLossBackward>)\n",
            "epoch 31, loss 0.0006445260951295495\n",
            "tensor(0.0006, grad_fn=<MseLossBackward>)\n",
            "epoch 32, loss 0.0006372687639668584\n",
            "tensor(0.0006, grad_fn=<MseLossBackward>)\n",
            "epoch 33, loss 0.0006300885579548776\n",
            "tensor(0.0006, grad_fn=<MseLossBackward>)\n",
            "epoch 34, loss 0.0006229906575754285\n",
            "tensor(0.0006, grad_fn=<MseLossBackward>)\n",
            "epoch 35, loss 0.0006159822223708034\n",
            "tensor(0.0006, grad_fn=<MseLossBackward>)\n",
            "epoch 36, loss 0.0006090441020205617\n",
            "tensor(0.0006, grad_fn=<MseLossBackward>)\n",
            "epoch 37, loss 0.0006021879380568862\n",
            "tensor(0.0006, grad_fn=<MseLossBackward>)\n",
            "epoch 38, loss 0.000595410936512053\n",
            "tensor(0.0006, grad_fn=<MseLossBackward>)\n",
            "epoch 39, loss 0.0005887002917006612\n",
            "tensor(0.0006, grad_fn=<MseLossBackward>)\n",
            "epoch 40, loss 0.0005820700898766518\n",
            "tensor(0.0006, grad_fn=<MseLossBackward>)\n",
            "epoch 41, loss 0.0005755117745138705\n",
            "tensor(0.0006, grad_fn=<MseLossBackward>)\n",
            "epoch 42, loss 0.0005690303514711559\n",
            "tensor(0.0006, grad_fn=<MseLossBackward>)\n",
            "epoch 43, loss 0.0005626266938634217\n",
            "tensor(0.0006, grad_fn=<MseLossBackward>)\n",
            "epoch 44, loss 0.0005562811275012791\n",
            "tensor(0.0006, grad_fn=<MseLossBackward>)\n",
            "epoch 45, loss 0.0005500215920619667\n",
            "tensor(0.0005, grad_fn=<MseLossBackward>)\n",
            "epoch 46, loss 0.0005438271909952164\n",
            "tensor(0.0005, grad_fn=<MseLossBackward>)\n",
            "epoch 47, loss 0.0005377011257223785\n",
            "tensor(0.0005, grad_fn=<MseLossBackward>)\n",
            "epoch 48, loss 0.0005316514289006591\n",
            "tensor(0.0005, grad_fn=<MseLossBackward>)\n",
            "epoch 49, loss 0.0005256555741652846\n",
            "tensor(0.0005, grad_fn=<MseLossBackward>)\n",
            "epoch 50, loss 0.0005197400460019708\n",
            "tensor(0.0005, grad_fn=<MseLossBackward>)\n",
            "epoch 51, loss 0.0005138922715559602\n",
            "tensor(0.0005, grad_fn=<MseLossBackward>)\n",
            "epoch 52, loss 0.0005080951377749443\n",
            "tensor(0.0005, grad_fn=<MseLossBackward>)\n",
            "epoch 53, loss 0.0005023739067837596\n",
            "tensor(0.0005, grad_fn=<MseLossBackward>)\n",
            "epoch 54, loss 0.0004967205459252\n",
            "tensor(0.0005, grad_fn=<MseLossBackward>)\n",
            "epoch 55, loss 0.0004911267315037549\n",
            "tensor(0.0005, grad_fn=<MseLossBackward>)\n",
            "epoch 56, loss 0.0004855958395637572\n",
            "tensor(0.0005, grad_fn=<MseLossBackward>)\n",
            "epoch 57, loss 0.00048012222396209836\n",
            "tensor(0.0005, grad_fn=<MseLossBackward>)\n",
            "epoch 58, loss 0.00047472078585997224\n",
            "tensor(0.0005, grad_fn=<MseLossBackward>)\n",
            "epoch 59, loss 0.00046936998842284083\n",
            "tensor(0.0005, grad_fn=<MseLossBackward>)\n",
            "epoch 60, loss 0.00046408409252762794\n",
            "tensor(0.0005, grad_fn=<MseLossBackward>)\n",
            "epoch 61, loss 0.0004588620213326067\n",
            "tensor(0.0005, grad_fn=<MseLossBackward>)\n",
            "epoch 62, loss 0.0004536916967481375\n",
            "tensor(0.0004, grad_fn=<MseLossBackward>)\n",
            "epoch 63, loss 0.0004485832469072193\n",
            "tensor(0.0004, grad_fn=<MseLossBackward>)\n",
            "epoch 64, loss 0.0004435224982444197\n",
            "tensor(0.0004, grad_fn=<MseLossBackward>)\n",
            "epoch 65, loss 0.0004385305510368198\n",
            "tensor(0.0004, grad_fn=<MseLossBackward>)\n",
            "epoch 66, loss 0.00043358950642868876\n",
            "tensor(0.0004, grad_fn=<MseLossBackward>)\n",
            "epoch 67, loss 0.00042870696051977575\n",
            "tensor(0.0004, grad_fn=<MseLossBackward>)\n",
            "epoch 68, loss 0.0004238818655721843\n",
            "tensor(0.0004, grad_fn=<MseLossBackward>)\n",
            "epoch 69, loss 0.00041910266736522317\n",
            "tensor(0.0004, grad_fn=<MseLossBackward>)\n",
            "epoch 70, loss 0.0004143873229622841\n",
            "tensor(0.0004, grad_fn=<MseLossBackward>)\n",
            "epoch 71, loss 0.00040972139686346054\n",
            "tensor(0.0004, grad_fn=<MseLossBackward>)\n",
            "epoch 72, loss 0.00040510622784495354\n",
            "tensor(0.0004, grad_fn=<MseLossBackward>)\n",
            "epoch 73, loss 0.0004005405935458839\n",
            "tensor(0.0004, grad_fn=<MseLossBackward>)\n",
            "epoch 74, loss 0.0003960334579460323\n",
            "tensor(0.0004, grad_fn=<MseLossBackward>)\n",
            "epoch 75, loss 0.0003915773704648018\n",
            "tensor(0.0004, grad_fn=<MseLossBackward>)\n",
            "epoch 76, loss 0.00038715358823537827\n",
            "tensor(0.0004, grad_fn=<MseLossBackward>)\n",
            "epoch 77, loss 0.00038280352600850165\n",
            "tensor(0.0004, grad_fn=<MseLossBackward>)\n",
            "epoch 78, loss 0.0003784874570555985\n",
            "tensor(0.0004, grad_fn=<MseLossBackward>)\n",
            "epoch 79, loss 0.00037422412424348295\n",
            "tensor(0.0004, grad_fn=<MseLossBackward>)\n",
            "epoch 80, loss 0.0003700109082274139\n",
            "tensor(0.0004, grad_fn=<MseLossBackward>)\n",
            "epoch 81, loss 0.000365848041838035\n",
            "tensor(0.0004, grad_fn=<MseLossBackward>)\n",
            "epoch 82, loss 0.00036172562977299094\n",
            "tensor(0.0004, grad_fn=<MseLossBackward>)\n",
            "epoch 83, loss 0.00035764925996772945\n",
            "tensor(0.0004, grad_fn=<MseLossBackward>)\n",
            "epoch 84, loss 0.00035363106871955097\n",
            "tensor(0.0003, grad_fn=<MseLossBackward>)\n",
            "epoch 85, loss 0.00034963939106091857\n",
            "tensor(0.0003, grad_fn=<MseLossBackward>)\n",
            "epoch 86, loss 0.0003457072307355702\n",
            "tensor(0.0003, grad_fn=<MseLossBackward>)\n",
            "epoch 87, loss 0.0003418101405259222\n",
            "tensor(0.0003, grad_fn=<MseLossBackward>)\n",
            "epoch 88, loss 0.00033796014031395316\n",
            "tensor(0.0003, grad_fn=<MseLossBackward>)\n",
            "epoch 89, loss 0.00033415801590308547\n",
            "tensor(0.0003, grad_fn=<MseLossBackward>)\n",
            "epoch 90, loss 0.0003303959092590958\n",
            "tensor(0.0003, grad_fn=<MseLossBackward>)\n",
            "epoch 91, loss 0.00032667547930032015\n",
            "tensor(0.0003, grad_fn=<MseLossBackward>)\n",
            "epoch 92, loss 0.00032299334998242557\n",
            "tensor(0.0003, grad_fn=<MseLossBackward>)\n",
            "epoch 93, loss 0.0003193556913174689\n",
            "tensor(0.0003, grad_fn=<MseLossBackward>)\n",
            "epoch 94, loss 0.0003157608152832836\n",
            "tensor(0.0003, grad_fn=<MseLossBackward>)\n",
            "epoch 95, loss 0.00031220813980326056\n",
            "tensor(0.0003, grad_fn=<MseLossBackward>)\n",
            "epoch 96, loss 0.0003086875076405704\n",
            "tensor(0.0003, grad_fn=<MseLossBackward>)\n",
            "epoch 97, loss 0.0003052127722185105\n",
            "tensor(0.0003, grad_fn=<MseLossBackward>)\n",
            "epoch 98, loss 0.00030177473672665656\n",
            "tensor(0.0003, grad_fn=<MseLossBackward>)\n",
            "epoch 99, loss 0.000298381521133706\n"
          ],
          "name": "stdout"
        }
      ]
    },
    {
      "cell_type": "code",
      "metadata": {
        "id": "GBDkKlEnpVYK",
        "colab_type": "code",
        "colab": {
          "base_uri": "https://localhost:8080/",
          "height": 435
        },
        "outputId": "d2f99bf4-7fc0-4be6-9d26-b5a1377eec39"
      },
      "source": [
        "import matplotlib.pyplot as plt\n",
        "\n",
        "with torch.no_grad(): # we don't need gradients in the testing phase\n",
        "    if torch.cuda.is_available():\n",
        "        predicted = model(Variable(torch.from_numpy(x_train).cuda())).cpu().data.numpy()\n",
        "    else:\n",
        "        predicted = model(Variable(torch.from_numpy(x_train))).data.numpy()\n",
        "    print(predicted)\n",
        "\n",
        "plt.clf()\n",
        "plt.plot(x_train, y_train, 'go', label='True data', alpha=0.5)\n",
        "plt.plot(x_train, predicted, '--', label='Predictions', alpha=0.5)\n",
        "plt.legend(loc='best')\n",
        "plt.show()"
      ],
      "execution_count": 15,
      "outputs": [
        {
          "output_type": "stream",
          "text": [
            "[[ 1.0319201]\n",
            " [ 3.0268297]\n",
            " [ 5.021739 ]\n",
            " [ 7.016649 ]\n",
            " [ 9.011559 ]\n",
            " [11.006468 ]\n",
            " [13.001378 ]\n",
            " [14.996287 ]\n",
            " [16.991196 ]\n",
            " [18.986105 ]]\n"
          ],
          "name": "stdout"
        },
        {
          "output_type": "display_data",
          "data": {
            "image/png": "[encoded data removed]",
            "text/plain": [
              "<Figure size 432x288 with 1 Axes>"
            ]
          },
          "metadata": {
            "tags": [],
            "needs_background": "light"
          }
        }
      ]
    },
    {
      "cell_type": "code",
      "metadata": {
        "id": "KuyEuZsLpedD",
        "colab_type": "code",
        "colab": {}
      },
      "source": [
        ""
      ],
      "execution_count": 0,
      "outputs": []
    }
  ]
}