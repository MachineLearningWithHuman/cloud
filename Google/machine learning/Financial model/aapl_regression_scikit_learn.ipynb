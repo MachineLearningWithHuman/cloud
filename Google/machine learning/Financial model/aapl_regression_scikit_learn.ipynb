{
  "nbformat": 4,
  "nbformat_minor": 0,
  "metadata": {
    "kernelspec": {
      "display_name": "Python 3",
      "language": "python",
      "name": "python3"
    },
    "language_info": {
      "codemirror_mode": {
        "name": "ipython",
        "version": 3
      },
      "file_extension": ".py",
      "mimetype": "text/x-python",
      "name": "python",
      "nbconvert_exporter": "python",
      "pygments_lexer": "ipython3",
      "version": "3.5.3"
    },
    "colab": {
      "name": "aapl_regression_scikit_learn.ipynb",
      "provenance": []
    }
  },
  "cells": [
    {
      "cell_type": "markdown",
      "metadata": {
        "id": "KId3I6gPdvQs",
        "colab_type": "text"
      },
      "source": [
        "# Building a Regression Model for a Financial Dataset\n",
        "\n",
        "In this notebook, you will build a simple linear regression model to predict the closing AAPL stock price. The lab objectives are:\n",
        "* Pull data from BigQuery into a Pandas dataframe\n",
        "* Use Matplotlib to visualize data\n",
        "* Use Scikit-Learn to build a regression model"
      ]
    },
    {
      "cell_type": "code",
      "metadata": {
        "id": "ButZ-mHEf0C1",
        "colab_type": "code",
        "colab": {
          "base_uri": "https://localhost:8080/",
          "height": 35
        },
        "outputId": "bde14149-68c5-400a-8a20-6f4f028b2237"
      },
      "source": [
        "from google.colab import auth\n",
        "auth.authenticate_user()\n",
        "print('Authenticated')"
      ],
      "execution_count": 12,
      "outputs": [
        {
          "output_type": "stream",
          "text": [
            "Authenticated\n"
          ],
          "name": "stdout"
        }
      ]
    },
    {
      "cell_type": "code",
      "metadata": {
        "id": "mooV8K_MdvRF",
        "colab_type": "code",
        "colab": {}
      },
      "source": [
        "%%bash\n",
        "\n",
        "bq mk -d ai4f\n",
        "bq load --autodetect --source_format=CSV ai4f.AAPL10Y gs://cloud-training/ai4f/AAPL10Y.csv"
      ],
      "execution_count": 0,
      "outputs": []
    },
    {
      "cell_type": "code",
      "metadata": {
        "id": "wb6-81HZdvRR",
        "colab_type": "code",
        "colab": {}
      },
      "source": [
        "%matplotlib inline\n",
        "\n",
        "import pandas as pd\n",
        "import matplotlib.pyplot as plt\n",
        "import numpy as np\n",
        "from sklearn import linear_model\n",
        "from sklearn.metrics import mean_squared_error\n",
        "from sklearn.metrics import r2_score\n",
        "\n",
        "plt.rc('figure', figsize=(12, 8.0))"
      ],
      "execution_count": 0,
      "outputs": []
    },
    {
      "cell_type": "markdown",
      "metadata": {
        "id": "wR9tUKT-dvRZ",
        "colab_type": "text"
      },
      "source": [
        "## Pull Data from BigQuery\n",
        "\n",
        "In this section we'll use a magic function to query a BigQuery table and then store the output in a Pandas dataframe. A magic function is just an alias to perform a system command. To see documentation on the \"bigquery\" magic function execute the following cell:"
      ]
    },
    {
      "cell_type": "code",
      "metadata": {
        "id": "GHJObxBDdvRa",
        "colab_type": "code",
        "colab": {}
      },
      "source": [
        "%%bigquery?"
      ],
      "execution_count": 0,
      "outputs": []
    },
    {
      "cell_type": "code",
      "metadata": {
        "id": "Hn8-1f4lj2nP",
        "colab_type": "code",
        "colab": {
          "base_uri": "https://localhost:8080/",
          "height": 310
        },
        "outputId": "e6f0e3a8-ebae-42c9-90f2-4ac3740a769a"
      },
      "source": [
        "!pip install --upgrade google-auth-oauthlib"
      ],
      "execution_count": 8,
      "outputs": [
        {
          "output_type": "stream",
          "text": [
            "Requirement already up-to-date: google-auth-oauthlib in /usr/local/lib/python3.6/dist-packages (0.4.1)\n",
            "Requirement already satisfied, skipping upgrade: requests-oauthlib>=0.7.0 in /usr/local/lib/python3.6/dist-packages (from google-auth-oauthlib) (1.3.0)\n",
            "Requirement already satisfied, skipping upgrade: google-auth in /usr/local/lib/python3.6/dist-packages (from google-auth-oauthlib) (1.7.2)\n",
            "Requirement already satisfied, skipping upgrade: oauthlib>=3.0.0 in /usr/local/lib/python3.6/dist-packages (from requests-oauthlib>=0.7.0->google-auth-oauthlib) (3.1.0)\n",
            "Requirement already satisfied, skipping upgrade: requests>=2.0.0 in /usr/local/lib/python3.6/dist-packages (from requests-oauthlib>=0.7.0->google-auth-oauthlib) (2.21.0)\n",
            "Requirement already satisfied, skipping upgrade: cachetools<3.2,>=2.0.0 in /usr/local/lib/python3.6/dist-packages (from google-auth->google-auth-oauthlib) (3.1.1)\n",
            "Requirement already satisfied, skipping upgrade: pyasn1-modules>=0.2.1 in /usr/local/lib/python3.6/dist-packages (from google-auth->google-auth-oauthlib) (0.2.8)\n",
            "Requirement already satisfied, skipping upgrade: rsa<4.1,>=3.1.4 in /usr/local/lib/python3.6/dist-packages (from google-auth->google-auth-oauthlib) (4.0)\n",
            "Requirement already satisfied, skipping upgrade: setuptools>=40.3.0 in /usr/local/lib/python3.6/dist-packages (from google-auth->google-auth-oauthlib) (46.1.3)\n",
            "Requirement already satisfied, skipping upgrade: six>=1.9.0 in /usr/local/lib/python3.6/dist-packages (from google-auth->google-auth-oauthlib) (1.12.0)\n",
            "Requirement already satisfied, skipping upgrade: certifi>=2017.4.17 in /usr/local/lib/python3.6/dist-packages (from requests>=2.0.0->requests-oauthlib>=0.7.0->google-auth-oauthlib) (2019.11.28)\n",
            "Requirement already satisfied, skipping upgrade: chardet<3.1.0,>=3.0.2 in /usr/local/lib/python3.6/dist-packages (from requests>=2.0.0->requests-oauthlib>=0.7.0->google-auth-oauthlib) (3.0.4)\n",
            "Requirement already satisfied, skipping upgrade: idna<2.9,>=2.5 in /usr/local/lib/python3.6/dist-packages (from requests>=2.0.0->requests-oauthlib>=0.7.0->google-auth-oauthlib) (2.8)\n",
            "Requirement already satisfied, skipping upgrade: urllib3<1.25,>=1.21.1 in /usr/local/lib/python3.6/dist-packages (from requests>=2.0.0->requests-oauthlib>=0.7.0->google-auth-oauthlib) (1.24.3)\n",
            "Requirement already satisfied, skipping upgrade: pyasn1<0.5.0,>=0.4.6 in /usr/local/lib/python3.6/dist-packages (from pyasn1-modules>=0.2.1->google-auth->google-auth-oauthlib) (0.4.8)\n"
          ],
          "name": "stdout"
        }
      ]
    },
    {
      "cell_type": "markdown",
      "metadata": {
        "id": "-HMsTmuVdvR4",
        "colab_type": "text"
      },
      "source": [
        "The query below selects everything you'll need to build a regression model to predict the closing price of AAPL stock. The model will be very simple for the purposes of demonstrating BQML functionality. The only features you'll use as input into the model are the previous day's closing price and a three day trend value. The trend value can only take on two values, either -1 or +1. If the AAPL stock price has increased over any two of the previous three days then the trend will be +1. Otherwise, the trend value will be -1.\n",
        "\n",
        "Note, the features you'll need can be generated from the raw table `ai4f.AAPL10Y` using Pandas functions. However, it's better to take advantage of the serverless-ness of BigQuery to do the data pre-processing rather than applying the necessary transformations locally.  "
      ]
    },
    {
      "cell_type": "code",
      "metadata": {
        "id": "oFHCj-0Wl_em",
        "colab_type": "code",
        "colab": {
          "base_uri": "https://localhost:8080/",
          "height": 35
        },
        "outputId": "1becc322-2a91-4350-fe34-17e79a4ac909"
      },
      "source": [
        "!gcloud config set project gcp-fundamentals-240210\n"
      ],
      "execution_count": 16,
      "outputs": [
        {
          "output_type": "stream",
          "text": [
            "Updated property [core/project].\n"
          ],
          "name": "stdout"
        }
      ]
    },
    {
      "cell_type": "code",
      "metadata": {
        "id": "N8QCUomidvR6",
        "colab_type": "code",
        "colab": {
          "base_uri": "https://localhost:8080/",
          "height": 236
        },
        "outputId": "7852736c-92bf-480d-cf22-507921b473b4"
      },
      "source": [
        "from google.cloud import bigquery\n",
        "\n",
        "client = bigquery.Client(project=\"gcp-fundamentals-240210\")\n",
        "\n",
        "query_job=client.query(\n",
        "\"\"\"\n",
        "WITH\n",
        "  raw AS (\n",
        "  SELECT\n",
        "    date,\n",
        "    close,\n",
        "    LAG(close, 1) OVER(ORDER BY date) AS min_1_close,\n",
        "    LAG(close, 2) OVER(ORDER BY date) AS min_2_close,\n",
        "    LAG(close, 3) OVER(ORDER BY date) AS min_3_close,\n",
        "    LAG(close, 4) OVER(ORDER BY date) AS min_4_close\n",
        "  FROM\n",
        "    `gcp-fundamentals-240210.ai4f.AAPL10Y`\n",
        "  ORDER BY\n",
        "    date DESC ),\n",
        "  raw_plus_trend AS (\n",
        "  SELECT\n",
        "    date,\n",
        "    close,\n",
        "    min_1_close,\n",
        "    IF (min_1_close - min_2_close > 0, 1, -1) AS min_1_trend,\n",
        "    IF (min_2_close - min_3_close > 0, 1, -1) AS min_2_trend,\n",
        "    IF (min_3_close - min_4_close > 0, 1, -1) AS min_3_trend\n",
        "  FROM\n",
        "    raw ),\n",
        "  train_data AS (\n",
        "  SELECT\n",
        "    date,\n",
        "    close,\n",
        "    min_1_close AS day_prev_close,\n",
        "    IF (min_1_trend + min_2_trend + min_3_trend > 0, 1, -1) AS trend_3_day\n",
        "  FROM\n",
        "    raw_plus_trend\n",
        "  ORDER BY\n",
        "    date ASC )\n",
        "SELECT\n",
        "  *\n",
        "FROM\n",
        "  train_data\n",
        "  \"\"\")\n",
        "df = query_job.to_dataframe()\n",
        "df.head()"
      ],
      "execution_count": 20,
      "outputs": [
        {
          "output_type": "stream",
          "text": [
            "WARNING:google.auth._default:No project ID could be determined. Consider running `gcloud config set project` or setting the GOOGLE_CLOUD_PROJECT environment variable\n"
          ],
          "name": "stderr"
        },
        {
          "output_type": "execute_result",
          "data": {
            "text/html": [
              "<div>\n",
              "<style scoped>\n",
              "    .dataframe tbody tr th:only-of-type {\n",
              "        vertical-align: middle;\n",
              "    }\n",
              "\n",
              "    .dataframe tbody tr th {\n",
              "        vertical-align: top;\n",
              "    }\n",
              "\n",
              "    .dataframe thead th {\n",
              "        text-align: right;\n",
              "    }\n",
              "</style>\n",
              "<table border=\"1\" class=\"dataframe\">\n",
              "  <thead>\n",
              "    <tr style=\"text-align: right;\">\n",
              "      <th></th>\n",
              "      <th>date</th>\n",
              "      <th>close</th>\n",
              "      <th>day_prev_close</th>\n",
              "      <th>trend_3_day</th>\n",
              "    </tr>\n",
              "  </thead>\n",
              "  <tbody>\n",
              "    <tr>\n",
              "      <th>0</th>\n",
              "      <td>2009-06-03</td>\n",
              "      <td>20.1357</td>\n",
              "      <td>NaN</td>\n",
              "      <td>-1</td>\n",
              "    </tr>\n",
              "    <tr>\n",
              "      <th>1</th>\n",
              "      <td>2009-06-04</td>\n",
              "      <td>20.5343</td>\n",
              "      <td>20.1357</td>\n",
              "      <td>-1</td>\n",
              "    </tr>\n",
              "    <tr>\n",
              "      <th>2</th>\n",
              "      <td>2009-06-05</td>\n",
              "      <td>20.6671</td>\n",
              "      <td>20.5343</td>\n",
              "      <td>-1</td>\n",
              "    </tr>\n",
              "    <tr>\n",
              "      <th>3</th>\n",
              "      <td>2009-06-08</td>\n",
              "      <td>20.5500</td>\n",
              "      <td>20.6671</td>\n",
              "      <td>1</td>\n",
              "    </tr>\n",
              "    <tr>\n",
              "      <th>4</th>\n",
              "      <td>2009-06-09</td>\n",
              "      <td>20.3886</td>\n",
              "      <td>20.5500</td>\n",
              "      <td>1</td>\n",
              "    </tr>\n",
              "  </tbody>\n",
              "</table>\n",
              "</div>"
            ],
            "text/plain": [
              "         date    close  day_prev_close  trend_3_day\n",
              "0  2009-06-03  20.1357             NaN           -1\n",
              "1  2009-06-04  20.5343         20.1357           -1\n",
              "2  2009-06-05  20.6671         20.5343           -1\n",
              "3  2009-06-08  20.5500         20.6671            1\n",
              "4  2009-06-09  20.3886         20.5500            1"
            ]
          },
          "metadata": {
            "tags": []
          },
          "execution_count": 20
        }
      ]
    },
    {
      "cell_type": "markdown",
      "metadata": {
        "id": "mFzWoNgjdvSE",
        "colab_type": "text"
      },
      "source": [
        "View the first five rows of the query's output. Note that the object `df` containing the query output is a Pandas Dataframe."
      ]
    },
    {
      "cell_type": "code",
      "metadata": {
        "id": "hZ5oxClTdvSG",
        "colab_type": "code",
        "colab": {
          "base_uri": "https://localhost:8080/",
          "height": 216
        },
        "outputId": "f5e4942a-38c5-4bae-b014-f3fcf0093454"
      },
      "source": [
        "print(type(df))\n",
        "df.dropna(inplace=True)\n",
        "df.head()"
      ],
      "execution_count": 21,
      "outputs": [
        {
          "output_type": "stream",
          "text": [
            "<class 'pandas.core.frame.DataFrame'>\n"
          ],
          "name": "stdout"
        },
        {
          "output_type": "execute_result",
          "data": {
            "text/html": [
              "<div>\n",
              "<style scoped>\n",
              "    .dataframe tbody tr th:only-of-type {\n",
              "        vertical-align: middle;\n",
              "    }\n",
              "\n",
              "    .dataframe tbody tr th {\n",
              "        vertical-align: top;\n",
              "    }\n",
              "\n",
              "    .dataframe thead th {\n",
              "        text-align: right;\n",
              "    }\n",
              "</style>\n",
              "<table border=\"1\" class=\"dataframe\">\n",
              "  <thead>\n",
              "    <tr style=\"text-align: right;\">\n",
              "      <th></th>\n",
              "      <th>date</th>\n",
              "      <th>close</th>\n",
              "      <th>day_prev_close</th>\n",
              "      <th>trend_3_day</th>\n",
              "    </tr>\n",
              "  </thead>\n",
              "  <tbody>\n",
              "    <tr>\n",
              "      <th>1</th>\n",
              "      <td>2009-06-04</td>\n",
              "      <td>20.5343</td>\n",
              "      <td>20.1357</td>\n",
              "      <td>-1</td>\n",
              "    </tr>\n",
              "    <tr>\n",
              "      <th>2</th>\n",
              "      <td>2009-06-05</td>\n",
              "      <td>20.6671</td>\n",
              "      <td>20.5343</td>\n",
              "      <td>-1</td>\n",
              "    </tr>\n",
              "    <tr>\n",
              "      <th>3</th>\n",
              "      <td>2009-06-08</td>\n",
              "      <td>20.5500</td>\n",
              "      <td>20.6671</td>\n",
              "      <td>1</td>\n",
              "    </tr>\n",
              "    <tr>\n",
              "      <th>4</th>\n",
              "      <td>2009-06-09</td>\n",
              "      <td>20.3886</td>\n",
              "      <td>20.5500</td>\n",
              "      <td>1</td>\n",
              "    </tr>\n",
              "    <tr>\n",
              "      <th>5</th>\n",
              "      <td>2009-06-10</td>\n",
              "      <td>20.0357</td>\n",
              "      <td>20.3886</td>\n",
              "      <td>-1</td>\n",
              "    </tr>\n",
              "  </tbody>\n",
              "</table>\n",
              "</div>"
            ],
            "text/plain": [
              "         date    close  day_prev_close  trend_3_day\n",
              "1  2009-06-04  20.5343         20.1357           -1\n",
              "2  2009-06-05  20.6671         20.5343           -1\n",
              "3  2009-06-08  20.5500         20.6671            1\n",
              "4  2009-06-09  20.3886         20.5500            1\n",
              "5  2009-06-10  20.0357         20.3886           -1"
            ]
          },
          "metadata": {
            "tags": []
          },
          "execution_count": 21
        }
      ]
    },
    {
      "cell_type": "markdown",
      "metadata": {
        "id": "w4S0c511dvST",
        "colab_type": "text"
      },
      "source": [
        "## Visualize data"
      ]
    },
    {
      "cell_type": "markdown",
      "metadata": {
        "id": "VGj5KyAOdvSU",
        "colab_type": "text"
      },
      "source": [
        "The simplest plot you can make is to show the closing stock price as a time series. Pandas DataFrames have built in plotting funtionality based on Matplotlib. "
      ]
    },
    {
      "cell_type": "code",
      "metadata": {
        "id": "MfPCIxgTdvSW",
        "colab_type": "code",
        "colab": {
          "base_uri": "https://localhost:8080/",
          "height": 497
        },
        "outputId": "265a833f-b294-48b1-dee4-7cbd0cd17b31"
      },
      "source": [
        "df.plot(x='date', y='close');"
      ],
      "execution_count": 22,
      "outputs": [
        {
          "output_type": "display_data",
          "data": {
            "image/png": "[encoded data removed]",
            "text/plain": [
              "<Figure size 864x576 with 1 Axes>"
            ]
          },
          "metadata": {
            "tags": []
          }
        }
      ]
    },
    {
      "cell_type": "markdown",
      "metadata": {
        "id": "pa1_slFTdvSi",
        "colab_type": "text"
      },
      "source": [
        "You can also embed the `trend_3_day` variable into the time series above. "
      ]
    },
    {
      "cell_type": "code",
      "metadata": {
        "id": "23Bef-6DdvTA",
        "colab_type": "code",
        "colab": {
          "base_uri": "https://localhost:8080/",
          "height": 531
        },
        "outputId": "a8752c06-e069-49a2-f640-a79b5191ce38"
      },
      "source": [
        "start_date = '2018-06-01'\n",
        "end_date = '2018-07-31'\n",
        "\n",
        "plt.plot(\n",
        "    'date', 'close', 'k--',\n",
        "    data = (\n",
        "        df.loc[pd.to_datetime(df.date).between(start_date, end_date)]\n",
        "    )\n",
        ")\n",
        "\n",
        "plt.scatter(\n",
        "    'date', 'close', color='b', label='pos trend', \n",
        "    data = (\n",
        "        df.loc[df.trend_3_day == 1 & pd.to_datetime(df.date).between(start_date, end_date)]\n",
        "    )\n",
        ")\n",
        "\n",
        "plt.scatter(\n",
        "    'date', 'close', color='r', label='neg trend',\n",
        "    data = (\n",
        "        df.loc[(df.trend_3_day == -1) & pd.to_datetime(df.date).between(start_date, end_date)]\n",
        "    )\n",
        ")\n",
        "\n",
        "plt.legend()\n",
        "plt.xticks(rotation = 90);"
      ],
      "execution_count": 23,
      "outputs": [
        {
          "output_type": "display_data",
          "data": {
            "image/png": "[encoded data removed]",
            "text/plain": [
              "<Figure size 864x576 with 1 Axes>"
            ]
          },
          "metadata": {
            "tags": []
          }
        }
      ]
    },
    {
      "cell_type": "code",
      "metadata": {
        "id": "Z_OsxsHVdvTI",
        "colab_type": "code",
        "colab": {
          "base_uri": "https://localhost:8080/",
          "height": 35
        },
        "outputId": "cf3d552c-4ce9-4679-e04b-fff7ec7a211f"
      },
      "source": [
        "df.shape"
      ],
      "execution_count": 24,
      "outputs": [
        {
          "output_type": "execute_result",
          "data": {
            "text/plain": [
              "(2516, 4)"
            ]
          },
          "metadata": {
            "tags": []
          },
          "execution_count": 24
        }
      ]
    },
    {
      "cell_type": "markdown",
      "metadata": {
        "id": "a-DGmdnzdvTP",
        "colab_type": "text"
      },
      "source": [
        "## Build a Regression Model in Scikit-Learn"
      ]
    },
    {
      "cell_type": "markdown",
      "metadata": {
        "id": "oxBjRkF7dvTV",
        "colab_type": "text"
      },
      "source": [
        "In this section you'll train a linear regression model to predict AAPL closing prices when given the previous day's closing price `day_prev_close` and the three day trend `trend_3_day`. A training set and test set are created by sequentially splitting the data after 2000 rows. "
      ]
    },
    {
      "cell_type": "code",
      "metadata": {
        "id": "wNPvKRecdvTW",
        "colab_type": "code",
        "colab": {}
      },
      "source": [
        "features = ['day_prev_close', 'trend_3_day']\n",
        "target = 'close'\n",
        "\n",
        "X_train, X_test = df.loc[:2000, features], df.loc[2000:, features]\n",
        "y_train, y_test = df.loc[:2000, target], df.loc[2000:, target]"
      ],
      "execution_count": 0,
      "outputs": []
    },
    {
      "cell_type": "code",
      "metadata": {
        "id": "DquF08UWdvTm",
        "colab_type": "code",
        "colab": {}
      },
      "source": [
        "# Create linear regression object\n",
        "regr = linear_model.LinearRegression(fit_intercept=False)"
      ],
      "execution_count": 0,
      "outputs": []
    },
    {
      "cell_type": "code",
      "metadata": {
        "id": "Vf8vZn8YdvT2",
        "colab_type": "code",
        "colab": {
          "base_uri": "https://localhost:8080/",
          "height": 35
        },
        "outputId": "f531c31f-6ec2-4fc0-b98a-3b13659fc6d1"
      },
      "source": [
        "# Train the model using the training set\n",
        "regr.fit(X_train, y_train)"
      ],
      "execution_count": 27,
      "outputs": [
        {
          "output_type": "execute_result",
          "data": {
            "text/plain": [
              "LinearRegression(copy_X=True, fit_intercept=False, n_jobs=None, normalize=False)"
            ]
          },
          "metadata": {
            "tags": []
          },
          "execution_count": 27
        }
      ]
    },
    {
      "cell_type": "code",
      "metadata": {
        "id": "3D09rYkGdvUF",
        "colab_type": "code",
        "colab": {}
      },
      "source": [
        "# Make predictions using the testing set\n",
        "y_pred = regr.predict(X_test)"
      ],
      "execution_count": 0,
      "outputs": []
    },
    {
      "cell_type": "code",
      "metadata": {
        "id": "RZ3Y60EDdvUL",
        "colab_type": "code",
        "colab": {
          "base_uri": "https://localhost:8080/",
          "height": 54
        },
        "outputId": "5085f3f2-9fcd-48b1-ce6c-b74a296cc08b"
      },
      "source": [
        "# The mean squared error\n",
        "print('Root Mean Squared Error: {0:.2f}'.format(np.sqrt(mean_squared_error(y_test, y_pred))))\n",
        "\n",
        "# Explained variance score: 1 is perfect prediction\n",
        "print('Variance Score: {0:.2f}'.format(r2_score(y_test, y_pred)))"
      ],
      "execution_count": 29,
      "outputs": [
        {
          "output_type": "stream",
          "text": [
            "Root Mean Squared Error: 2.99\n",
            "Variance Score: 0.98\n"
          ],
          "name": "stdout"
        }
      ]
    },
    {
      "cell_type": "code",
      "metadata": {
        "id": "1K0BePnAdvUS",
        "colab_type": "code",
        "colab": {
          "base_uri": "https://localhost:8080/",
          "height": 497
        },
        "outputId": "c11986fb-fd3f-486e-93b2-638d7ae8f28a"
      },
      "source": [
        "plt.scatter(y_test, y_pred)\n",
        "plt.plot([140, 240], [140, 240], 'r--', label='perfect fit')\n",
        "plt.xlabel('Actual')\n",
        "plt.ylabel('Predicted')\n",
        "plt.legend();"
      ],
      "execution_count": 30,
      "outputs": [
        {
          "output_type": "display_data",
          "data": {
            "image/png": "[encoded data removed]",
            "text/plain": [
              "<Figure size 864x576 with 1 Axes>"
            ]
          },
          "metadata": {
            "tags": []
          }
        }
      ]
    },
    {
      "cell_type": "markdown",
      "metadata": {
        "id": "IqCSlsPYdvUZ",
        "colab_type": "text"
      },
      "source": [
        "The model's predictions are more or less in line with the truth. However, the utility of the model depends on the business context (i.e. you won't be making any money with this model). It's fair to question whether the variable `trend_3_day` even adds to the performance of the model:"
      ]
    },
    {
      "cell_type": "code",
      "metadata": {
        "id": "JTI9uV_udvUa",
        "colab_type": "code",
        "colab": {
          "base_uri": "https://localhost:8080/",
          "height": 35
        },
        "outputId": "55533619-451b-4dac-f9ec-7de136ad94d5"
      },
      "source": [
        "print('Root Mean Squared Error: {0:.2f}'.format(np.sqrt(mean_squared_error(y_test, X_test.day_prev_close))))"
      ],
      "execution_count": 31,
      "outputs": [
        {
          "output_type": "stream",
          "text": [
            "Root Mean Squared Error: 2.98\n"
          ],
          "name": "stdout"
        }
      ]
    },
    {
      "cell_type": "markdown",
      "metadata": {
        "id": "6zGlM6eldvUu",
        "colab_type": "text"
      },
      "source": [
        "Indeed, the RMSE is actually lower if we simply use the previous day's closing value as a prediction! Does increasing the number of days included in the trend improve the model? Feel free to create new features and attempt to improve model performance!"
      ]
    }
  ]
}